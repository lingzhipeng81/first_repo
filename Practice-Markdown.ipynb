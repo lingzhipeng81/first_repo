{
 "cells": [
  {
   "cell_type": "markdown",
   "metadata": {},
   "source": [
    "## Practice Markdown"
   ]
  },
  {
   "cell_type": "markdown",
   "metadata": {},
   "source": [
    "This notebook lets you experiment with producing repeatable technical documentation.  Use this notebook to do the following actions:\n",
    "\n",
    "* Create a code cell and print a Python Hello World statement:  `print(\"hello world\")`\n",
    "* Create a Markdown Cell and add a Title using `#` and then a statement using plain text.  You can looks at the source code for this cell to get an idea of how to use Markdown.\n",
    "* Take some ideas from the [Master Markdown Github Guide](https://guides.github.com/features/mastering-markdown/) and implement them here.\n",
    "* Download this notebook as a `.ipynb` file and check into a Github Project.  You can [see an example here](https://github.com/noahgift/duke-coursera-ccf-lab1/blob/main/Practice-Markdown.ipynb).\n",
    "* Open your notebook in Google Colab and save it into the same Github Project.  You can [see an example here](https://github.com/noahgift/duke-coursera-ccf-lab1/blob/main/Practice_Markdown_with_colab.ipynb).\n"
   ]
  },
  {
   "cell_type": "code",
   "execution_count": 9,
   "metadata": {},
   "outputs": [
    {
     "name": "stdout",
     "output_type": "stream",
     "text": [
      "hello world\n"
     ]
    }
   ],
   "source": [
    "print(\"hello world\")"
   ]
  },
  {
   "cell_type": "markdown",
   "metadata": {},
   "source": [
    "## Title2"
   ]
  },
  {
   "cell_type": "markdown",
   "metadata": {},
   "source": [
    "# A first-level heading\n",
    "## A second-level heading\n",
    "### A third-level heading\n",
    "#### A fourth-level heading\n",
    "##### A fifth-level heading\n",
    "###### A sixth-level heading"
   ]
  },
  {
   "cell_type": "markdown",
   "metadata": {},
   "source": [
    "**This is bold text**\n",
    "\n",
    "_This text is italicized_\n",
    "\n",
    "~~This was mistaken text~~\n",
    "\n",
    "**This text is _extremely_ important**\n",
    "\n",
    "***All this text is important***\n",
    "\n",
    "This is a <sub>subscript</sub> text\n",
    "\n",
    "This is a <sup>superscript</sup> text\n",
    "\n",
    "This is an <ins>underlined</ins> text\n",
    "\n",
    "> Text that is a quote\n",
    "\n",
    "Some basic Git commands are:\n",
    "```\n",
    "git status\n",
    "git add\n",
    "git commit\n",
    "```\n",
    "\n",
    "The background color is `#ffffff` for light mode and `#000000` for dark mode.\n",
    "\n",
    "This site was built using [GitHub Pages](https://pages.github.com/).\n",
    "\n"
   ]
  },
  {
   "cell_type": "markdown",
   "metadata": {},
   "source": [
    "# Example headings\n",
    "\n",
    "## Sample Section\n",
    "\n",
    "## This'll be a _Helpful_ Section About the Greek Letter Θ!\n",
    "A heading containing characters not allowed in fragments, UTF-8 characters, two consecutive spaces between the first and second words, and formatting.\n",
    "\n",
    "## This heading is not unique in the file\n",
    "\n",
    "TEXT 1\n",
    "\n",
    "## This heading is not unique in the file\n",
    "\n",
    "TEXT 2\n",
    "\n",
    "# Links to the example headings above\n",
    "\n",
    "Link to the sample section: [Link Text](#sample-section).\n",
    "\n",
    "Link to the helpful section: [Link Text](#thisll-be-a-helpful-section-about-the-greek-letter-Θ).\n",
    "\n",
    "Link to the first non-unique section: [Link Text](#this-heading-is-not-unique-in-the-file).\n",
    "\n",
    "Link to the second non-unique section: [Link Text](#this-heading-is-not-unique-in-the-file-1)."
   ]
  },
  {
   "cell_type": "markdown",
   "metadata": {},
   "source": [
    "# Section Heading\n",
    "\n",
    "Some body text of this section.\n",
    "\n",
    "<a name=\"my-custom-anchor-point\"></a>\n",
    "Some text I want to provide a direct link to, but which doesn't have its own heading.\n",
    "\n",
    "(… more content…)\n",
    "\n",
    "[A link to that custom anchor](#my-custom-anchor-point)"
   ]
  },
  {
   "cell_type": "markdown",
   "metadata": {},
   "source": [
    "This example  \n",
    "Will span two lines\n",
    "\n",
    "This example\\\n",
    "Will span two lines\n",
    "\n",
    "This example<br/>\n",
    "Will span two lines"
   ]
  },
  {
   "cell_type": "markdown",
   "metadata": {},
   "source": [
    "![Screenshot of a comment on a GitHub issue showing an image, added in the Markdown, of an Octocat smiling and raising a tentacle.](https://myoctocat.com/assets/images/base-octocat.svg)"
   ]
  },
  {
   "cell_type": "markdown",
   "metadata": {},
   "source": [
    "- George Washington\n",
    "* John Adams\n",
    "+ Thomas Jefferson\n",
    "\n",
    "\n",
    "\n",
    "1. James Madison\n",
    "2. James Monroe\n",
    "3. John Quincy Adams"
   ]
  },
  {
   "cell_type": "markdown",
   "metadata": {},
   "source": [
    "100. First list item\n",
    "     - First nested list item\n",
    "     \n",
    "     \n",
    "     \n",
    "     \n",
    "     \n",
    "100. First list item\n",
    "     - First nested list item\n",
    "         - Second nested list item\n",
    "         \n",
    "         \n",
    "         \n",
    "- [x] #739\n",
    "- [ ] https://github.com/octo-org/octo-repo/issues/740\n",
    "- [ ] Add delight to the experience when all tasks are complete :tada:"
   ]
  },
  {
   "cell_type": "markdown",
   "metadata": {},
   "source": [
    "- [x] #739\n",
    "- [ ] https://github.com/octo-org/octo-repo/issues/740\n",
    "- [ ] Add delight to the experience when all tasks are complete :tada:\n",
    "\n",
    "- [ ] \\(Optional) Open a followup issue\n",
    "\n",
    "@github/support What do you think about these updates?\n",
    "\n",
    "@octocat :+1: This PR looks great - it's ready to merge! :shipit:"
   ]
  },
  {
   "cell_type": "markdown",
   "metadata": {},
   "source": [
    "Here is a simple footnote[^1].\n",
    "\n",
    "A footnote can also have multiple lines[^2].\n",
    "\n",
    "[^1]: My reference.\n",
    "[^2]: To add line breaks within a footnote, prefix new lines with 2 spaces.\n",
    "  This is a second line."
   ]
  },
  {
   "cell_type": "markdown",
   "metadata": {},
   "source": [
    "<!-- This content will not appear in the rendered Markdown -->\n",
    "\n",
    "> [!NOTE]\n",
    "> Useful information that users should know, even when skimming content.\n",
    "\n",
    "> [!TIP]\n",
    "> Helpful advice for doing things better or more easily.\n",
    "\n",
    "> [!IMPORTANT]\n",
    "> Key information users need to know to achieve their goal.\n",
    "\n",
    "> [!WARNING]\n",
    "> Urgent info that needs immediate user attention to avoid problems.\n",
    "\n",
    "> [!CAUTION]\n",
    "> Advises about risks or negative outcomes of certain actions.\n",
    "\n",
    "\n",
    "Let's rename \\*our-new-project\\* to \\*our-old-project\\*."
   ]
  },
  {
   "cell_type": "code",
   "execution_count": null,
   "metadata": {},
   "outputs": [],
   "source": []
  },
  {
   "cell_type": "code",
   "execution_count": null,
   "metadata": {},
   "outputs": [],
   "source": []
  }
 ],
 "metadata": {
  "kernelspec": {
   "display_name": "Python 3",
   "language": "python",
   "name": "python3"
  },
  "language_info": {
   "codemirror_mode": {
    "name": "ipython",
    "version": 3
   },
   "file_extension": ".py",
   "mimetype": "text/x-python",
   "name": "python",
   "nbconvert_exporter": "python",
   "pygments_lexer": "ipython3",
   "version": "3.7.6"
  }
 },
 "nbformat": 4,
 "nbformat_minor": 4
}
